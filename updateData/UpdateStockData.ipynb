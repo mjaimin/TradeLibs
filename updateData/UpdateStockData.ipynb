{
 "cells": [
  {
   "cell_type": "code",
   "execution_count": 15,
   "metadata": {},
   "outputs": [],
   "source": [
    "import pendulum\n",
    "import pandas as pd\n",
    "from sqlalchemy import create_engine, MetaData\n",
    "from sqlalchemy import select\n",
    "\n",
    "\n",
    "PG_USER = \"postgres\"\n",
    "PG_PASSWORD = \"data123\"\n",
    "PG_HOSTNAME = \"127.0.0.1\"\n",
    "PG_PORT = \"5432\"\n",
    "PG_DB_NAME = \"dailypricedata\"\n",
    "\n",
    "connect = f\"postgresql+psycopg2://{PG_USER}:{PG_PASSWORD}@{PG_HOSTNAME}:{PG_PORT}/{PG_DB_NAME}\"\n",
    "\n",
    "engine = create_engine(connect)\n"
   ]
  },
  {
   "cell_type": "code",
   "execution_count": 16,
   "id": "4486ae8e",
   "metadata": {},
   "outputs": [],
   "source": [
    "meta_data = MetaData(bind=engine)\n",
    "MetaData.reflect(meta_data)\n",
    "nsedata = meta_data.tables['NSEData']\n",
    "query = select([\n",
    "    nsedata.c.Symbol\n",
    "])\n",
    "\n",
    "stockNameList = engine.execute(query).fetchall()"
   ]
  },
  {
   "cell_type": "code",
   "execution_count": 17,
   "id": "6cf47909",
   "metadata": {},
   "outputs": [],
   "source": [
    "\n",
    "stockLastUpdateDict = {}\n",
    "# Exception list BAYERCROP, ABBOTINDIA, HLEGLAS, MCX, PCBL, RBA, SPICEJET, WESTLIFE, ZFCVINDIA, AGI, BESTAGRO, COSMOFIRST, DOLATALGO, FORCEMOT, GATEWAY, GOODYEAR, HINDWAREAP, IONEXCHANG, KENNAMET, KIRLFER\n",
    "for stockName in stockNameList:\n",
    "    try:\n",
    "        stock = meta_data.tables[stockName[0]]\n",
    "    except:\n",
    "        print(stockName[0])\n",
    "    query = select([\n",
    "        stock.c.Date\n",
    "    ])\n",
    "    dateRange = engine.execute(query).fetchall()\n",
    "    df = pd.DataFrame(dateRange)\n",
    "    if df.empty:\n",
    "        continue\n",
    "    latestDataDate = pendulum.parse(str(df.tail(1).values[0][0]))\n",
    "    stockLastUpdateDict[stockName[0]] = latestDataDate\n",
    "#print(stockLastUpdateDict)\n",
    "    \n"
   ]
  },
  {
   "cell_type": "code",
   "execution_count": 18,
   "id": "f9fdf233",
   "metadata": {},
   "outputs": [],
   "source": [
    "def to_alchemy(anydbengine, stockname, dataframe):\n",
    "    \"\"\"dumps data frame to database\"\"\"\n",
    "    dataframe.to_sql(\n",
    "        stockname,\n",
    "        con=anydbengine,\n",
    "        index=False,\n",
    "        if_exists='append'\n",
    "    )"
   ]
  },
  {
   "cell_type": "code",
   "execution_count": null,
   "id": "af6a6639",
   "metadata": {},
   "outputs": [],
   "source": [
    "from datetime import datetime\n",
    "import yfinance as yf\n",
    "stockUpdateStartDate = stockLastUpdateDict\n",
    "endDate = datetime(2022, 6, 1)\n",
    "for stockname in stockUpdateStartDate:\n",
    "    startDate = stockUpdateStartDate[stockname]\n",
    "    startDate = pendulum.instance(startDate).add(days = 1)\n",
    "    print(stockname,startDate, endDate)\n",
    "    stock_price_info_Frame = yf.download(\n",
    "        stockname + \".NS\", start=startDate, end=endDate, progress=False).reset_index()\n",
    "    to_alchemy(engine, stockname, stock_price_info_Frame)\n"
   ]
  }
 ],
 "metadata": {
  "interpreter": {
   "hash": "9947c5f4e59caa39bdf633fb27db8c4450108e7028e958fcc4999fc2641b3dd7"
  },
  "kernelspec": {
   "display_name": "Python 3.9.12 ('base')",
   "language": "python",
   "name": "python3"
  },
  "language_info": {
   "codemirror_mode": {
    "name": "ipython",
    "version": 3
   },
   "file_extension": ".py",
   "mimetype": "text/x-python",
   "name": "python",
   "nbconvert_exporter": "python",
   "pygments_lexer": "ipython3",
   "version": "3.9.12"
  }
 },
 "nbformat": 4,
 "nbformat_minor": 5
}
