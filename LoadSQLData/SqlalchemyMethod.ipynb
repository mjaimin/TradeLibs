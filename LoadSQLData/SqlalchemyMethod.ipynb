{
 "cells": [
  {
   "cell_type": "code",
   "execution_count": 1,
   "id": "019fec37-a4fa-4378-96b6-721e1540cdac",
   "metadata": {},
   "outputs": [],
   "source": [
    "from sqlalchemy import create_engine, MetaData, select\n",
    "import datetime as dt\n",
    "import pandas as pd\n",
    "import talib\n",
    "from tabulate import tabulate\n",
    "import mplfinance as mpf\n",
    "\n",
    "\n",
    "PG_USER = \"postgres\"\n",
    "PG_PASSWORD = \"data123\"\n",
    "PG_HOSTNAME = \"127.0.0.1\"\n",
    "PG_PORT = \"5432\"\n",
    "PG_DB_NAME = \"dailypricedata\"\n",
    "\n",
    "connect = f\"postgresql+psycopg2://{PG_USER}:{PG_PASSWORD}@{PG_HOSTNAME}:{PG_PORT}/{PG_DB_NAME}\"\n",
    "engine = create_engine(connect)\n",
    "\n",
    "#def getStockData(script):\n",
    "    #meta_data = MetaData(bind=engine)\n",
    "    #MetaData.reflect(meta_data)\n",
    "    #table = meta_data.tables[script]\n",
    "    #query = select([\n",
    "        #table\n",
    "    #])\n",
    "    ##query = select(table).order_by(table.c.Date).offset(10).fetch(10)\n",
    "    #df = engine.execute(query)\n",
    "    #return df\n",
    "\n",
    "\n",
    "def getStockData(engine, script):\n",
    "    query = f\"select * from \\\"{script}\\\"\"\n",
    "    df = pd.read_sql_query(query, engine)\n",
    "    return df\n"
   ]
  },
  {
   "cell_type": "code",
   "execution_count": 2,
   "id": "fe68c024",
   "metadata": {},
   "outputs": [],
   "source": [
    "result = getStockData(engine,'IRCON')"
   ]
  },
  {
   "cell_type": "code",
   "execution_count": null,
   "id": "bf76fdd7",
   "metadata": {},
   "outputs": [],
   "source": [
    "df = pd.DataFrame(result)\n",
    "df = df.set_index('Date')\n",
    "fig, axes = mpf.plot(df.tail(120), style='yahoo',type='hollow_and_filled', volume=False, mav=(50, 20, 10), figscale=1, returnfig=True, tight_layout=True , title = \"IRCON\")"
   ]
  }
 ],
 "metadata": {
  "interpreter": {
   "hash": "9947c5f4e59caa39bdf633fb27db8c4450108e7028e958fcc4999fc2641b3dd7"
  },
  "kernelspec": {
   "display_name": "Python 3.9.12 ('base')",
   "language": "python",
   "name": "python3"
  },
  "language_info": {
   "codemirror_mode": {
    "name": "ipython",
    "version": 3
   },
   "file_extension": ".py",
   "mimetype": "text/x-python",
   "name": "python",
   "nbconvert_exporter": "python",
   "pygments_lexer": "ipython3",
   "version": "3.9.12"
  }
 },
 "nbformat": 4,
 "nbformat_minor": 5
}
