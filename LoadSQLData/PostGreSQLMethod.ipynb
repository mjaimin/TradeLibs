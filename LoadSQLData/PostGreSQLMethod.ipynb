{
 "cells": [
  {
   "cell_type": "code",
   "execution_count": null,
   "id": "019fec37-a4fa-4378-96b6-721e1540cdac",
   "metadata": {},
   "outputs": [],
   "source": [
    "\"\"\"Module creates tables by stock name\"\"\"\n",
    "\n",
    "import psycopg2\n",
    "import datetime as dt\n",
    "import pandas as pd\n",
    "import talib\n",
    "from tabulate import tabulate\n",
    "import mplfinance as mpf\n",
    "import pprint\n",
    "\n",
    "\n",
    "PG_USER = \"postgres\"\n",
    "PG_PASSWORD = \"data123\"\n",
    "PG_HOSTNAME = \"127.0.0.1\"\n",
    "PG_PORT = \"5432\"\n",
    "PG_DB_NAME = \"dailypricedata\"\n",
    "DATABASE_URI = 'postgresql://' + PG_USER + ':' + PG_PASSWORD + \\\n",
    "    '@' + PG_HOSTNAME + ':' + PG_PORT + '/' + PG_DB_NAME\n",
    "\n",
    "# Establishing the connection\n",
    "\n",
    "try:\n",
    "    connection = psycopg2.connect(\n",
    "        database=PG_DB_NAME, user=PG_USER, password=PG_PASSWORD, host=PG_HOSTNAME, port=PG_PORT)\n",
    "except (Exception, psycopg2.Error) as error:\n",
    "    print(\"Connection not established\", error)\n",
    "\n",
    "# Creating a cursor object using the cursor() method\n",
    "def getStockData(engine, script):\n",
    "    df = pd.read_sql_query(\"SELECT * FROM \\\"ZOMATO\\\"\", engine)\n",
    "    return df\n",
    "\n",
    "result = getStockData(connection, 'IRCON')\n",
    "result\n"
   ]
  }
 ],
 "metadata": {
  "interpreter": {
   "hash": "9947c5f4e59caa39bdf633fb27db8c4450108e7028e958fcc4999fc2641b3dd7"
  },
  "kernelspec": {
   "display_name": "Python 3.9.12 ('base')",
   "language": "python",
   "name": "python3"
  },
  "language_info": {
   "codemirror_mode": {
    "name": "ipython",
    "version": 3
   },
   "file_extension": ".py",
   "mimetype": "text/x-python",
   "name": "python",
   "nbconvert_exporter": "python",
   "pygments_lexer": "ipython3",
   "version": "3.9.12"
  }
 },
 "nbformat": 4,
 "nbformat_minor": 5
}
