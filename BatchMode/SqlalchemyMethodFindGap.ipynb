{
 "cells": [
  {
   "cell_type": "code",
   "execution_count": 31,
   "id": "019fec37-a4fa-4378-96b6-721e1540cdac",
   "metadata": {},
   "outputs": [],
   "source": [
    "from sqlalchemy import create_engine, MetaData, select\n",
    "import datetime as dt\n",
    "import pandas as pd\n",
    "import mplfinance as mpf\n",
    "\n",
    "\n",
    "PG_USER = \"postgres\"\n",
    "PG_PASSWORD = \"data123\"\n",
    "PG_HOSTNAME = \"127.0.0.1\"\n",
    "PG_PORT = \"5432\"\n",
    "PG_DB_NAME = \"dailypricedata\"\n",
    "\n",
    "connect = f\"postgresql+psycopg2://{PG_USER}:{PG_PASSWORD}@{PG_HOSTNAME}:{PG_PORT}/{PG_DB_NAME}\"\n",
    "engine = create_engine(connect)\n",
    "\n",
    "meta_data = MetaData(bind=engine)\n",
    "MetaData.reflect(meta_data)\n",
    "nsedata = meta_data.tables['NSEData']\n",
    "query = select([\n",
    "    nsedata.c.Symbol\n",
    "])\n",
    "\n",
    "stockNameList = engine.execute(query).fetchall()\n"
   ]
  },
  {
   "cell_type": "code",
   "execution_count": 32,
   "id": "6e3903e6",
   "metadata": {},
   "outputs": [],
   "source": [
    "def getStockData(engine, script):\n",
    "    query = f\"select * from \\\"{script}\\\"\"\n",
    "    df = pd.read_sql_query(query, engine)\n",
    "    df = pd.DataFrame(df)\n",
    "    #df = df.set_index('Date')\n",
    "    df[\"prevClose\"] = df.Close.shift(1)\n",
    "    df['change'] = df[['Open', 'prevClose']].pct_change(axis=1)['prevClose']\n",
    "    \n",
    "    return df"
   ]
  },
  {
   "cell_type": "code",
   "execution_count": 38,
   "id": "fe68c024",
   "metadata": {},
   "outputs": [],
   "source": [
    "import datetime\n",
    "import pendulum\n",
    "startDate = pendulum.now().add(days=-30).format('YYYY-MM-DD')\n",
    "granddf = pd.DataFrame()\n",
    "percentageGap = 5\n",
    "for script in stockNameList:\n",
    "    resultdf = getStockData(engine, script[0])\n",
    "    df = resultdf\n",
    "    df['Date'] = pd.to_datetime(df['Date'])\n",
    "    df = df[df.Date > startDate]\n",
    "    df = df[df.change < -percentageGap/100]\n",
    "    df['Stock'] = script[0]\n",
    "    granddf = pd.concat([granddf, df])\n",
    "df = granddf\n"
   ]
  },
  {
   "cell_type": "code",
   "execution_count": 44,
   "id": "676826d6",
   "metadata": {},
   "outputs": [],
   "source": [
    "import datetime\n",
    "import pendulum\n",
    "startDate = pendulum.now().add(days=-30).format('YYYY-MM-DD')\n",
    "grandPositiveGapdf = pd.DataFrame()\n",
    "grandNegativeGapdf = pd.DataFrame()\n",
    "percentageGap = 5\n",
    "for script in stockNameList:\n",
    "    resultdf = getStockData(engine, script[0])\n",
    "    df = resultdf\n",
    "    df['Date'] = pd.to_datetime(df['Date'])\n",
    "    df = df[df.Date > startDate]\n",
    "    \n",
    "    dfPos = df.copy()\n",
    "    dfPos = dfPos[dfPos.change < -percentageGap/100]\n",
    "    dfPos['Stock'] = script[0]\n",
    "    \n",
    "    dfNeg = df.copy()\n",
    "    dfNeg = dfNeg[dfNeg.change > percentageGap/100]\n",
    "    dfNeg['Stock'] = script[0]\n",
    "    \n",
    "    grandPositiveGapdf = pd.concat([grandPositiveGapdf, dfPos])\n",
    "    grandNegativeGapdf = pd.concat([grandNegativeGapdf, dfNeg])"
   ]
  },
  {
   "cell_type": "code",
   "execution_count": null,
   "id": "710df592",
   "metadata": {},
   "outputs": [],
   "source": [
    "grandNegativeGapdf"
   ]
  },
  {
   "cell_type": "code",
   "execution_count": null,
   "id": "0a9a18cf",
   "metadata": {},
   "outputs": [],
   "source": [
    "grandPositiveGapdf"
   ]
  }
 ],
 "metadata": {
  "interpreter": {
   "hash": "9947c5f4e59caa39bdf633fb27db8c4450108e7028e958fcc4999fc2641b3dd7"
  },
  "kernelspec": {
   "display_name": "Python 3.9.12 ('base')",
   "language": "python",
   "name": "python3"
  },
  "language_info": {
   "codemirror_mode": {
    "name": "ipython",
    "version": 3
   },
   "file_extension": ".py",
   "mimetype": "text/x-python",
   "name": "python",
   "nbconvert_exporter": "python",
   "pygments_lexer": "ipython3",
   "version": "3.9.12"
  }
 },
 "nbformat": 4,
 "nbformat_minor": 5
}
