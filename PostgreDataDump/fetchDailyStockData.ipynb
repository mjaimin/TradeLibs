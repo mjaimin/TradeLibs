{
 "cells": [
  {
   "cell_type": "code",
   "execution_count": 22,
   "id": "7723ad55",
   "metadata": {},
   "outputs": [],
   "source": [
    "\"\"\"Module reads stock price history from yfinance and dumps in DB\"\"\"\n",
    "\n",
    "import datetime\n",
    "import yfinance as yf\n",
    "from sqlalchemy import create_engine\n",
    "from stocknamedata import scriptNameList\n",
    "\n",
    "DB_USER = \"postgres\"\n",
    "DB_PASSWORD = \"data123\"\n",
    "DB_HOSTNAME = \"127.0.0.1\"\n",
    "DB_PORT = \"5432\"\n",
    "DB_NAME = \"dailypricedata\"\n",
    "\n",
    "connect = f\"postgresql+psycopg2://{DB_USER}:{DB_PASSWORD}@{DB_HOSTNAME}:{DB_PORT}/{DB_NAME}\"\n",
    "# Establishing the connection\n",
    "engine = create_engine(connect)\n",
    "\n",
    "start = datetime.datetime(2017, 1, 1)\n",
    "end = datetime.datetime.now()"
   ]
  },
  {
   "cell_type": "code",
   "execution_count": 23,
   "id": "db6c8ae6",
   "metadata": {},
   "outputs": [],
   "source": [
    "def to_alchemy(anydbengine, stockname, dataframe):\n",
    "    \"\"\"dumps data frame to database\"\"\"\n",
    "    print(stockname)\n",
    "    dataframe.to_sql(\n",
    "        stockname,\n",
    "        con=anydbengine,\n",
    "        index=False,\n",
    "        if_exists='replace'\n",
    "    )"
   ]
  },
  {
   "cell_type": "code",
   "execution_count": null,
   "id": "86aecc3a",
   "metadata": {},
   "outputs": [],
   "source": [
    "for script_name in scriptNameList:\n",
    "    stock_price_info_Frame = yf.download(\n",
    "        script_name, start=start, end=end, progress=False).reset_index()\n",
    "    script_name = script_name.replace(\".NS\", \"\")\n",
    "    to_alchemy(engine, script_name, stock_price_info_Frame)"
   ]
  }
 ],
 "metadata": {
  "interpreter": {
   "hash": "9947c5f4e59caa39bdf633fb27db8c4450108e7028e958fcc4999fc2641b3dd7"
  },
  "kernelspec": {
   "display_name": "Python 3 (ipykernel)",
   "language": "python",
   "name": "python3"
  },
  "language_info": {
   "codemirror_mode": {
    "name": "ipython",
    "version": 3
   },
   "file_extension": ".py",
   "mimetype": "text/x-python",
   "name": "python",
   "nbconvert_exporter": "python",
   "pygments_lexer": "ipython3",
   "version": "3.9.12"
  }
 },
 "nbformat": 4,
 "nbformat_minor": 5
}
