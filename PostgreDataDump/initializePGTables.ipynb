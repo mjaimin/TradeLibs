{
 "cells": [
  {
   "cell_type": "code",
   "execution_count": 5,
   "id": "29c293ec",
   "metadata": {},
   "outputs": [],
   "source": [
    "\"\"\"Module creates tables by stock name\"\"\"\n",
    "\n",
    "import psycopg2\n",
    "\n",
    "from stocknamedata import scriptNameList\n",
    "\n",
    "PG_USER = \"postgres\"\n",
    "PG_PASSWORD = \"data123\"\n",
    "PG_HOSTNAME = \"127.0.0.1\"\n",
    "PG_PORT = \"5432\"\n",
    "PG_DB_NAME = \"dailypricedata\"\n",
    "DATABASE_URI = 'postgresql://' + PG_USER + ':' + PG_PASSWORD + \\\n",
    "    '@' + PG_HOSTNAME + ':' + PG_PORT + '/' + PG_DB_NAME\n",
    "\n",
    "# Establishing the connection\n",
    "\n",
    "conn = psycopg2.connect(\n",
    "    database=PG_DB_NAME, user=PG_USER, password=PG_PASSWORD, host=PG_HOSTNAME, port=PG_PORT\n",
    ")\n",
    "# Creating a cursor object using the cursor() method\n",
    "cursor = conn.cursor()\n",
    "for script_name in scriptNameList:\n",
    "    script_name = script_name.replace(\".NS\", \"\")\n",
    "    # Creating table as per requirement\n",
    "    sql = '''CREATE TABLE IF NOT EXISTS \"{}\" (\n",
    "\"Date\" TIMESTAMP NULL DEFAULT NULL , \"Open\" REAL NULL DEFAULT NULL ,\"High\" REAL NULL DEFAULT NULL ,\"Low\" REAL NULL DEFAULT NULL ,\"Close\" REAL NULL DEFAULT NULL ,\"Adj Close\" REAL NULL DEFAULT NULL ,\"Volume\" INTEGER NULL DEFAULT NULL        \n",
    "        )'''.format(script_name)\n",
    "    cursor.execute(sql)\n",
    "conn.commit()\n",
    "# Closing the connection\n",
    "conn.close()"
   ]
  }
 ],
 "metadata": {
  "interpreter": {
   "hash": "9947c5f4e59caa39bdf633fb27db8c4450108e7028e958fcc4999fc2641b3dd7"
  },
  "kernelspec": {
   "display_name": "Python 3 (ipykernel)",
   "language": "python",
   "name": "python3"
  },
  "language_info": {
   "codemirror_mode": {
    "name": "ipython",
    "version": 3
   },
   "file_extension": ".py",
   "mimetype": "text/x-python",
   "name": "python",
   "nbconvert_exporter": "python",
   "pygments_lexer": "ipython3",
   "version": "3.9.12"
  }
 },
 "nbformat": 4,
 "nbformat_minor": 5
}
