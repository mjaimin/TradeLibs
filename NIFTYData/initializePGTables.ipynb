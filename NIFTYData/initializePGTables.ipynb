{
 "cells": [
  {
   "cell_type": "code",
   "execution_count": 1,
   "id": "51d0ef7d-35f6-4b08-aec0-e618b3c16e94",
   "metadata": {},
   "outputs": [
    {
     "name": "stdout",
     "output_type": "stream",
     "text": [
      "NSEData\n"
     ]
    }
   ],
   "source": [
    "# %%\n",
    "from sqlalchemy import create_engine\n",
    "import psycopg2\n",
    "import pandas as pd\n",
    "import datetime\n",
    "import yfinance as yf\n",
    "\n",
    "\n",
    "PG_USER = \"postgres\"\n",
    "PG_PASSWORD = \"data123\"\n",
    "PG_HOSTNAME = \"127.0.0.1\"\n",
    "PG_PORT = \"5432\"\n",
    "PG_DB_NAME = \"dailypricedata\"\n",
    "\n",
    "connect = \"postgresql+psycopg2://%s:%s@%s:%s/%s\" % (\n",
    "    PG_USER,\n",
    "    PG_PASSWORD,\n",
    "    PG_HOSTNAME,\n",
    "    PG_PORT,\n",
    "    PG_DB_NAME\n",
    ")\n",
    "\n",
    "scriptNameList = ['NSEData']\n",
    "def to_alchemy(engine, script_name, df):\n",
    "    print(script_name)\n",
    "    df.to_sql(\n",
    "        script_name,\n",
    "        con=engine,\n",
    "        index=False,\n",
    "        if_exists='replace'\n",
    "    )\n",
    "\n",
    "engine = create_engine(connect)\n",
    "\n",
    "stock_price_info_Frame = pd.read_csv('NIFTYIndexData.csv').reset_index()\n",
    "to_alchemy(engine, 'NSEData', stock_price_info_Frame)\n"
   ]
  }
 ],
 "metadata": {
  "interpreter": {
   "hash": "9947c5f4e59caa39bdf633fb27db8c4450108e7028e958fcc4999fc2641b3dd7"
  },
  "kernelspec": {
   "display_name": "Python 3.9.12 ('base')",
   "language": "python",
   "name": "python3"
  },
  "language_info": {
   "codemirror_mode": {
    "name": "ipython",
    "version": 3
   },
   "file_extension": ".py",
   "mimetype": "text/x-python",
   "name": "python",
   "nbconvert_exporter": "python",
   "pygments_lexer": "ipython3",
   "version": "3.9.12"
  }
 },
 "nbformat": 4,
 "nbformat_minor": 5
}
