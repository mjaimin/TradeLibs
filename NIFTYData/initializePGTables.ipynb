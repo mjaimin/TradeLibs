{
 "cells": [
  {
   "cell_type": "code",
   "execution_count": 1,
   "id": "51d0ef7d-35f6-4b08-aec0-e618b3c16e94",
   "metadata": {},
   "outputs": [
    {
     "name": "stdout",
     "output_type": "stream",
     "text": [
      "NSEData\n"
     ]
    }
   ],
   "source": [
    "\"\"\"imports NSE indexes to database\"\"\"\n",
    "import pandas as pd\n",
    "from sqlalchemy import create_engine\n",
    "\n",
    "PG_USER = \"postgres\"\n",
    "PG_PASSWORD = \"data123\"\n",
    "PG_HOSTNAME = \"127.0.0.1\"\n",
    "PG_PORT = \"5432\"\n",
    "PG_DB_NAME = \"dailypricedata\"\n",
    "\n",
    "connect = f\"postgresql+psycopg2://{PG_USER}:{PG_PASSWORD}@{PG_HOSTNAME}:{PG_PORT}/{PG_DB_NAME}\"\n",
    "\n",
    "scriptNameList = ['NSEData']\n",
    "\n",
    "\n",
    "def to_alchemy(anydbengine, stockname, dataframe):\n",
    "    \"\"\"dumps data frame to database\"\"\"\n",
    "    print(stockname)\n",
    "    dataframe.to_sql(\n",
    "        stockname,\n",
    "        con=anydbengine,\n",
    "        index=False,\n",
    "        if_exists='replace'\n",
    "    )\n",
    "\n",
    "\n",
    "engine = create_engine(connect)\n",
    "\n",
    "stock_price_info_Frame = pd.read_csv('NIFTYIndexData.csv').reset_index()\n",
    "to_alchemy(engine, 'NSEData', stock_price_info_Frame)\n"
   ]
  }
 ],
 "metadata": {
  "interpreter": {
   "hash": "9947c5f4e59caa39bdf633fb27db8c4450108e7028e958fcc4999fc2641b3dd7"
  },
  "kernelspec": {
   "display_name": "Python 3.9.12 ('base')",
   "language": "python",
   "name": "python3"
  },
  "language_info": {
   "codemirror_mode": {
    "name": "ipython",
    "version": 3
   },
   "file_extension": ".py",
   "mimetype": "text/x-python",
   "name": "python",
   "nbconvert_exporter": "python",
   "pygments_lexer": "ipython3",
   "version": "3.9.12"
  }
 },
 "nbformat": 4,
 "nbformat_minor": 5
}
