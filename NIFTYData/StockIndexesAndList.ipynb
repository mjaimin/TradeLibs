{
 "cells": [
  {
   "cell_type": "code",
   "execution_count": 3,
   "id": "a0f2f5b1",
   "metadata": {},
   "outputs": [],
   "source": [
    "\"\"\"Module converts individual NIFTY index csv files to a grand csv file\"\"\"\n",
    "import pandas as pd\n",
    "\n",
    "csvlist = ['ind_nifty100list.csv', 'ind_nifty200list.csv',\n",
    "           'ind_nifty500list.csv', 'ind_nifty500Multicap502525_list.csv',\n",
    "           'ind_nifty50list.csv', 'ind_niftylargemidcap250list.csv',\n",
    "           'ind_niftymicrocap250_list.csv', 'ind_niftymidcap100list.csv',\n",
    "           'ind_niftymidcap150list.csv', 'ind_niftymidcap50list.csv',\n",
    "           'ind_niftymidcapselect_list.csv', 'ind_niftymidsmallcap400list.csv',\n",
    "           'ind_niftynext50list.csv', 'ind_niftysmallcap100list.csv'\n",
    "           'ind_niftysmallcap250list.csv', 'ind_niftysmallcap50list.csv']\n",
    "\n",
    "finaldf = pd.DataFrame(columns=['Company Name', 'Industry', 'Symbol',\n",
    "                                'Series', 'ISIN Code', 'nifty100',\n",
    "                                'nifty200', 'nifty500', 'nifty500Multicap502525',\n",
    "                                'nifty50', 'niftylargemidcap250', 'niftymicrocap250',\n",
    "                                'niftymidcap100', 'niftymidcap150', 'niftymidcap50',\n",
    "                                'niftymidcapselect', 'niftymidsmallcap400', 'niftynext50',\n",
    "                                'niftysmallcap100', 'niftysmallcap250', 'niftysmallcap50'])\n",
    "df = pd.DataFrame()\n",
    "for fileName in csvlist:\n",
    "    tmpdf = pd.read_csv(fileName)\n",
    "    df = pd.concat([df, tmpdf]).drop_duplicates().reset_index(drop=True)\n",
    "    finaldf = pd.concat([finaldf, df]).drop_duplicates().reset_index(drop=True)\n",
    "\n",
    "for fileName in csvlist:\n",
    "    index = fileName.replace('ind_', '').replace(\n",
    "        \"list.csv\", \"\").replace(\"_\", \"\")\n",
    "    tmpdf = pd.read_csv(fileName)\n",
    "    for element in tmpdf['ISIN Code']:\n",
    "        finaldf.loc[finaldf['ISIN Code'] == element, index] = 1\n",
    "# finaldf.to_excel(\"your.xlsx\")\n",
    "finaldf.to_csv(\"NIFTYIndexData.csv\")\n"
   ]
  },
  {
   "cell_type": "code",
   "execution_count": null,
   "id": "ce336890-f910-42fa-92a5-25f1c887fc6f",
   "metadata": {},
   "outputs": [],
   "source": []
  }
 ],
 "metadata": {
  "interpreter": {
   "hash": "9947c5f4e59caa39bdf633fb27db8c4450108e7028e958fcc4999fc2641b3dd7"
  },
  "kernelspec": {
   "display_name": "Python 3 (ipykernel)",
   "language": "python",
   "name": "python3"
  },
  "language_info": {
   "codemirror_mode": {
    "name": "ipython",
    "version": 3
   },
   "file_extension": ".py",
   "mimetype": "text/x-python",
   "name": "python",
   "nbconvert_exporter": "python",
   "pygments_lexer": "ipython3",
   "version": "3.8.10"
  }
 },
 "nbformat": 4,
 "nbformat_minor": 5
}
